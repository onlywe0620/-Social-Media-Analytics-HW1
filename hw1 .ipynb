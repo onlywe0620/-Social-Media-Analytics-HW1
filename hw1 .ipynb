{
 "cells": [
  {
   "cell_type": "markdown",
   "metadata": {
    "collapsed": true
   },
   "source": [
    "# HW1"
   ]
  },
  {
   "cell_type": "markdown",
   "metadata": {
    "collapsed": false
   },
   "source": [
    "# 2.a & 2.b"
   ]
  },
  {
   "cell_type": "code",
   "execution_count": 4,
   "metadata": {
    "collapsed": false
   },
   "outputs": [
    {
     "name": "stdout",
     "output_type": "stream",
     "text": [
      "tweets: 1421\n",
      "twitters: 83\n"
     ]
    }
   ],
   "source": [
    "import pyes\n",
    "import elasticsearch\n",
    "import json\n",
    "import time\n",
    "\n",
    "#轉換範例\n",
    "#a=time.strptime('Sun Feb 02 10:04:01 +0000 2014','%a %b %d %H:%M:%S +0000 %Y')\n",
    "#print time.strftime(\"%Y-%m-%d %H:%M:%S\",a)\n",
    "#\n",
    "es_address='192.168.1.232:9200'#112 http://140.118.139.60:9200/ 192.168.1.232:9200\n",
    "conn = pyes.es.ES(es_address)\n",
    "bq = pyes.query.BoolQuery() \n",
    "#q = pyes.query.MatchAllQuery()\n",
    "tq = pyes.query.TermQuery(field=\"text\", value=\"cve\")\n",
    "tq1 = pyes.query.TermQuery(field=\"text\", value=\"exploit\")\n",
    "tq2 = pyes.query.TermQuery(field=\"text\", value=\"vulnerability\")\n",
    "\n",
    "ESR = pyes.ESRange(field=\"created_at\", from_value=\"Wed Jan 01 00:00:00 +0000 2014\", to_value=\"Wed Dec 31 23:59:59 +0000 2014\", \n",
    "                  include_lower=True ,include_upper=True)\n",
    "rq = pyes.query.RangeQuery(qrange=ESR)\n",
    "\n",
    "bq.add_should(tq)\n",
    "bq.add_should(tq1)\n",
    "bq.add_should(tq2)\n",
    "bq.add_must(rq)\n",
    "\n",
    "result = conn.search(query= bq , indices='twitter2' , doc_types='tweet')\n",
    "len(result)\n",
    "day=[]\n",
    "name=[]\n",
    "url=0\n",
    "nurl=0\n",
    "totalname=[]\n",
    "#分類帳戶 日期型態轉換 有無url數量統計\n",
    "for i in result:\n",
    "    name.append(i['user']['name'])\n",
    "    day.append(int(time.strftime(\"%m\",time.strptime(i['created_at'],'%a %b %d %H:%M:%S +0000 %Y'))))\n",
    "    if i['entities']['urls'] == [] :\n",
    "#    if i['user']['url'] == None :\n",
    "        nurl=nurl+1\n",
    "    else:\n",
    "        url=url+1\n",
    "for c in name:\n",
    "    if c in totalname:\n",
    "        continue\n",
    "    else:\n",
    "        totalname.append(c)\n",
    "#result[0]['user']['name']\n",
    "print 'tweets:',len(result)\n",
    "print 'twitters:',len(totalname)\n",
    "#for i in result:\n",
    "    #print time.strftime(\"%m\",time.strptime(i['created_at'],'%a %b %d %H:%M:%S +0000 %Y'))\n",
    "    #print i['user']['name']\n"
   ]
  },
  {
   "cell_type": "markdown",
   "metadata": {},
   "source": [
    "# 2.c & 2.d & 2.e "
   ]
  },
  {
   "cell_type": "code",
   "execution_count": 5,
   "metadata": {
    "collapsed": false
   },
   "outputs": [
    {
     "name": "stdout",
     "output_type": "stream",
     "text": [
      "Populating the interactive namespace from numpy and matplotlib\n",
      "每個月參與Tweets數量長條圖:\n"
     ]
    },
    {
     "data": {
      "image/png": "[encoded data removed]",
      "text/plain": [
       "<matplotlib.figure.Figure at 0x7fdcbff15910>"
      ]
     },
     "metadata": {},
     "output_type": "display_data"
    },
    {
     "name": "stdout",
     "output_type": "stream",
     "text": [
      "每個月參與的Twitter數量長條圖:\n"
     ]
    },
    {
     "data": {
      "image/png": "[encoded data removed]",
      "text/plain": [
       "<matplotlib.figure.Figure at 0x7fdcbfe80e10>"
      ]
     },
     "metadata": {},
     "output_type": "display_data"
    },
    {
     "name": "stdout",
     "output_type": "stream",
     "text": [
      "有URL與無URL的Tweets的比例圓餅圖:\n"
     ]
    },
    {
     "data": {
      "image/png": "[encoded data removed]",
      "text/plain": [
       "<matplotlib.figure.Figure at 0x7fdcbd784110>"
      ]
     },
     "metadata": {},
     "output_type": "display_data"
    }
   ],
   "source": [
    "%pylab inline\n",
    "import pandas as pd\n",
    "import numpy as np\n",
    "%matplotlib inline\n",
    "import matplotlib.pyplot as plt\n",
    "#每個月參與Tweets數量長條圖\n",
    "df = pd.DataFrame({'name':name,\n",
    "                   'month':day})\n",
    "#print df.dtypes\n",
    "#df['month'].hist(bins=range(1,14))\n",
    "#plt.show()\n",
    "count=[]\n",
    "#print day.count(12)\n",
    "for c in range(1,13):\n",
    "    count.append(len(df.loc[df['month']==c]))\n",
    "print '每個月參與Tweets數量長條圖:'\n",
    "plt.xlabel(u\"month\")\n",
    "plt.ylabel(u\"Tweets\")\n",
    "plt.bar(left = (range(1,13)),height = (count),align=\"center\")\n",
    "plt.show()\n",
    "\n",
    "\n",
    "#每個月參與的Twitter數量長條圖\n",
    "dfte = pd.DataFrame(0,index=range(len(totalname)),columns=range(1,13))\n",
    "dfte['name']=totalname\n",
    "for c in xrange(len(name)):\n",
    "    dfte.loc[dfte['name']==name[c],day[c]]=1\n",
    "sum_row=dfte[range(1,13)].sum()\n",
    "print '每個月參與的Twitter數量長條圖:'\n",
    "plt.xlabel(u\"month\")\n",
    "plt.ylabel(u\"Twitter\")\n",
    "plt.bar(left = (sum_row.index),height = (sum_row),align=\"center\",color='green')\n",
    "plt.show()\n",
    "\n",
    "#其中有URL與無URL的Tweets的比例圓餅圖\n",
    "#调节图形大小，宽，高\n",
    "plt.figure(figsize=(6,6))\n",
    "labels = [u'url',u'no url']\n",
    "#每个标签占多大，会自动去算百分比\n",
    "sizes = [url,nurl]\n",
    "colors = ['red','yellowgreen']\n",
    "#将某部分爆炸出来， 使用括号，将第一块分割出来，数值的大小是分割出来的与其他两块的间隙\n",
    "explode = (0,0)\n",
    "plt.pie(sizes,explode=explode,labels=labels,colors=colors,\n",
    "        labeldistance = 1.1,autopct = '%3.2f%%',shadow = False,\n",
    "        startangle = 90,pctdistance = 0.6)\n",
    "print '有URL與無URL的Tweets的比例圓餅圖:'\n",
    "plt.show()"
   ]
  },
  {
   "cell_type": "markdown",
   "metadata": {},
   "source": [
    "另外測試"
   ]
  },
  {
   "cell_type": "code",
   "execution_count": 6,
   "metadata": {
    "collapsed": false
   },
   "outputs": [
    {
     "data": {
      "text/plain": [
       "<matplotlib.axes._subplots.AxesSubplot at 0x7fdcbd8db190>"
      ]
     },
     "execution_count": 6,
     "metadata": {},
     "output_type": "execute_result"
    },
    {
     "data": {
      "image/png": "[encoded data removed]",
      "text/plain": [
       "<matplotlib.figure.Figure at 0x7fdced584e10>"
      ]
     },
     "metadata": {},
     "output_type": "display_data"
    },
    {
     "data": {
      "image/png": "[encoded data removed]",
      "text/plain": [
       "<matplotlib.figure.Figure at 0x7fdcbd9588d0>"
      ]
     },
     "metadata": {},
     "output_type": "display_data"
    }
   ],
   "source": [
    "df['month'].hist(bins=range(1,14))\n",
    "dftt=df[['name','month']].drop_duplicates()\n",
    "dftt['month'].hist(bins=range(1,14))\n",
    "df_sub_sum=pd.DataFrame(data=sum_row).T\n",
    "df_sub_sum\n",
    "df_sub_sum.plot.bar()"
   ]
  },
  {
   "cell_type": "markdown",
   "metadata": {},
   "source": [
    "# 2.f箱型圖"
   ]
  },
  {
   "cell_type": "code",
   "execution_count": 136,
   "metadata": {
    "collapsed": false
   },
   "outputs": [
    {
     "name": "stdout",
     "output_type": "stream",
     "text": [
      "265\n"
     ]
    }
   ],
   "source": [
    "bq = pyes.query.BoolQuery() \n",
    "#q = pyes.query.MatchAllQuery()\n",
    "tq = pyes.query.TermQuery(field=\"text\", value=\"cve\")\n",
    "\n",
    "ESR = pyes.ESRange(field=\"created_at\", from_value=\"Wed Jan 01 00:00:00 +0000 2014\", to_value=\"Wed Dec 31 23:59:59 +0000 2014\", \n",
    "                  include_lower=True ,include_upper=True)\n",
    "rq = pyes.query.RangeQuery(qrange=ESR)\n",
    "\n",
    "bq.add_must(tq)\n",
    "bq.add_must(rq)\n",
    "result2 = conn.search(query= bq , indices='twitter2' , doc_types='tweet')\n",
    "print len(result2)\n",
    "name2=[]\n",
    "day2=[]\n",
    "totalname2=[]\n",
    "for i in result2:\n",
    "    name2.append(i['user']['name'])\n",
    "    day2.append(int(time.strftime(\"%m\",time.strptime(i['created_at'],'%a %b %d %H:%M:%S +0000 %Y'))))\n",
    "for c in name2:\n",
    "    if c in totalname2:\n",
    "        continue\n",
    "    else:\n",
    "        totalname2.append(c)\n",
    "#print totalname2"
   ]
  },
  {
   "cell_type": "code",
   "execution_count": 137,
   "metadata": {
    "collapsed": false
   },
   "outputs": [
    {
     "data": {
      "text/plain": [
       "<matplotlib.axes._subplots.AxesSubplot at 0x7fdcba7479d0>"
      ]
     },
     "execution_count": 137,
     "metadata": {},
     "output_type": "execute_result"
    },
    {
     "data": {
      "image/png": "[encoded data removed]",
      "text/plain": [
       "<matplotlib.figure.Figure at 0x7fdcba1defd0>"
      ]
     },
     "metadata": {},
     "output_type": "display_data"
    }
   ],
   "source": [
    "df2 = pd.DataFrame({'name':name2,\n",
    "                   'month':day2})\n",
    "df2\n",
    "df3 = pd.DataFrame(0,index=totalname2,columns=range(1,13))\n",
    "#df3['name']=totalname2\n",
    "for c in xrange(len(name2)):\n",
    "    df3.loc[df3.index==name2[c],day2[c]]+=1\n",
    "#    df3.loc[df3['name']==name2[c],day2[c]]+=1\n",
    "sum_row=df3[df3.columns].sum()\n",
    "#df4=df3.T\n",
    "#df4.loc[df4.ix[2]>0]\n",
    "#箱形圖\n",
    "df3.plot.box()"
   ]
  },
  {
   "cell_type": "code",
   "execution_count": 138,
   "metadata": {
    "collapsed": false
   },
   "outputs": [
    {
     "data": {
      "image/png": "[encoded data removed]",
      "text/plain": [
       "<matplotlib.figure.Figure at 0x7fdcba5a7610>"
      ]
     },
     "metadata": {},
     "output_type": "display_data"
    },
    {
     "data": {
      "image/png": "[encoded data removed]",
      "text/plain": [
       "<matplotlib.figure.Figure at 0x7fdcba7c7690>"
      ]
     },
     "metadata": {},
     "output_type": "display_data"
    },
    {
     "data": {
      "image/png": "[encoded data removed]",
      "text/plain": [
       "<matplotlib.figure.Figure at 0x7fdcba7c7750>"
      ]
     },
     "metadata": {},
     "output_type": "display_data"
    },
    {
     "data": {
      "image/png": "[encoded data removed]",
      "text/plain": [
       "<matplotlib.figure.Figure at 0x7fdcb9720d10>"
      ]
     },
     "metadata": {},
     "output_type": "display_data"
    },
    {
     "data": {
      "image/png": "[encoded data removed]",
      "text/plain": [
       "<matplotlib.figure.Figure at 0x7fdcb9637fd0>"
      ]
     },
     "metadata": {},
     "output_type": "display_data"
    },
    {
     "data": {
      "image/png": "[encoded data removed]",
      "text/plain": [
       "<matplotlib.figure.Figure at 0x7fdcb9579b10>"
      ]
     },
     "metadata": {},
     "output_type": "display_data"
    },
    {
     "data": {
      "image/png": "[encoded data removed]",
      "text/plain": [
       "<matplotlib.figure.Figure at 0x7fdcb951c4d0>"
      ]
     },
     "metadata": {},
     "output_type": "display_data"
    },
    {
     "data": {
      "image/png": "[encoded data removed]",
      "text/plain": [
       "<matplotlib.figure.Figure at 0x7fdcb94478d0>"
      ]
     },
     "metadata": {},
     "output_type": "display_data"
    },
    {
     "data": {
      "image/png": "[encoded data removed]",
      "text/plain": [
       "<matplotlib.figure.Figure at 0x7fdcb9375810>"
      ]
     },
     "metadata": {},
     "output_type": "display_data"
    },
    {
     "data": {
      "image/png": "[encoded data removed]",
      "text/plain": [
       "<matplotlib.figure.Figure at 0x7fdcb9305910>"
      ]
     },
     "metadata": {},
     "output_type": "display_data"
    },
    {
     "data": {
      "image/png": "[encoded data removed]",
      "text/plain": [
       "<matplotlib.figure.Figure at 0x7fdcb9247050>"
      ]
     },
     "metadata": {},
     "output_type": "display_data"
    },
    {
     "data": {
      "image/png": "[encoded data removed]",
      "text/plain": [
       "<matplotlib.figure.Figure at 0x7fdcb91d6310>"
      ]
     },
     "metadata": {},
     "output_type": "display_data"
    }
   ],
   "source": [
    "#篩選每月有發次數的帳號，個別針對每個月做箱形圖\n",
    "for c in range(1,13):\n",
    "    df4=df3.loc[df3[c]>0].T.ix[c]\n",
    "    df5=pd.DataFrame(data=df4)\n",
    "    df5.plot.box()"
   ]
  },
  {
   "cell_type": "markdown",
   "metadata": {},
   "source": [
    "# 2.G\n",
    "能否分析資安弱點分析指標帳號?如何分析?\n",
    "可以分析資安弱點分析指標帳號，我們利用資安弱點來作為關鍵字，找出一個月發文總次數較多或一個月平均發文次數較多的帳號，再依據次數進行排序，就可以認定他們為指標帳號。"
   ]
  },
  {
   "cell_type": "markdown",
   "metadata": {},
   "source": [
    "# 3"
   ]
  },
  {
   "cell_type": "code",
   "execution_count": 139,
   "metadata": {
    "collapsed": false
   },
   "outputs": [
    {
     "data": {
      "text/html": [
       "<div>\n",
       "<table border=\"1\" class=\"dataframe\">\n",
       "  <thead>\n",
       "    <tr style=\"text-align: right;\">\n",
       "      <th></th>\n",
       "      <th>cve</th>\n",
       "      <th>exploit</th>\n",
       "      <th>vulnerability</th>\n",
       "      <th>infosec</th>\n",
       "    </tr>\n",
       "  </thead>\n",
       "  <tbody>\n",
       "    <tr>\n",
       "      <th>BillBrenner70</th>\n",
       "      <td>10</td>\n",
       "      <td>0</td>\n",
       "      <td>0</td>\n",
       "      <td>0</td>\n",
       "    </tr>\n",
       "    <tr>\n",
       "      <th>Jeff Barr</th>\n",
       "      <td>3</td>\n",
       "      <td>0</td>\n",
       "      <td>0</td>\n",
       "      <td>0</td>\n",
       "    </tr>\n",
       "    <tr>\n",
       "      <th>Avram Marius</th>\n",
       "      <td>41</td>\n",
       "      <td>0</td>\n",
       "      <td>0</td>\n",
       "      <td>0</td>\n",
       "    </tr>\n",
       "    <tr>\n",
       "      <th>edskoudis</th>\n",
       "      <td>1</td>\n",
       "      <td>0</td>\n",
       "      <td>0</td>\n",
       "      <td>0</td>\n",
       "    </tr>\n",
       "    <tr>\n",
       "      <th>beist</th>\n",
       "      <td>3</td>\n",
       "      <td>0</td>\n",
       "      <td>0</td>\n",
       "      <td>0</td>\n",
       "    </tr>\n",
       "    <tr>\n",
       "      <th>Tim Strazzere</th>\n",
       "      <td>10</td>\n",
       "      <td>0</td>\n",
       "      <td>0</td>\n",
       "      <td>0</td>\n",
       "    </tr>\n",
       "    <tr>\n",
       "      <th>Ryan Barnett</th>\n",
       "      <td>5</td>\n",
       "      <td>0</td>\n",
       "      <td>0</td>\n",
       "      <td>0</td>\n",
       "    </tr>\n",
       "    <tr>\n",
       "      <th>Mikko Hypponen</th>\n",
       "      <td>10</td>\n",
       "      <td>0</td>\n",
       "      <td>0</td>\n",
       "      <td>0</td>\n",
       "    </tr>\n",
       "    <tr>\n",
       "      <th>Steve Ragan</th>\n",
       "      <td>2</td>\n",
       "      <td>0</td>\n",
       "      <td>0</td>\n",
       "      <td>0</td>\n",
       "    </tr>\n",
       "    <tr>\n",
       "      <th>Joshua Corman</th>\n",
       "      <td>2</td>\n",
       "      <td>0</td>\n",
       "      <td>0</td>\n",
       "      <td>0</td>\n",
       "    </tr>\n",
       "    <tr>\n",
       "      <th>Richard Bejtlich</th>\n",
       "      <td>3</td>\n",
       "      <td>0</td>\n",
       "      <td>0</td>\n",
       "      <td>0</td>\n",
       "    </tr>\n",
       "    <tr>\n",
       "      <th>Razor</th>\n",
       "      <td>5</td>\n",
       "      <td>0</td>\n",
       "      <td>0</td>\n",
       "      <td>0</td>\n",
       "    </tr>\n",
       "    <tr>\n",
       "      <th>Dan Philpott</th>\n",
       "      <td>1</td>\n",
       "      <td>0</td>\n",
       "      <td>0</td>\n",
       "      <td>0</td>\n",
       "    </tr>\n",
       "    <tr>\n",
       "      <th>adam shostack</th>\n",
       "      <td>5</td>\n",
       "      <td>0</td>\n",
       "      <td>0</td>\n",
       "      <td>0</td>\n",
       "    </tr>\n",
       "    <tr>\n",
       "      <th>mdowd</th>\n",
       "      <td>7</td>\n",
       "      <td>0</td>\n",
       "      <td>0</td>\n",
       "      <td>0</td>\n",
       "    </tr>\n",
       "    <tr>\n",
       "      <th>Virus Bulletin</th>\n",
       "      <td>43</td>\n",
       "      <td>0</td>\n",
       "      <td>0</td>\n",
       "      <td>0</td>\n",
       "    </tr>\n",
       "    <tr>\n",
       "      <th>Chris Wysopal</th>\n",
       "      <td>9</td>\n",
       "      <td>0</td>\n",
       "      <td>0</td>\n",
       "      <td>0</td>\n",
       "    </tr>\n",
       "    <tr>\n",
       "      <th>Graham Cluley</th>\n",
       "      <td>2</td>\n",
       "      <td>0</td>\n",
       "      <td>0</td>\n",
       "      <td>0</td>\n",
       "    </tr>\n",
       "    <tr>\n",
       "      <th>Petko D. Petkov</th>\n",
       "      <td>3</td>\n",
       "      <td>0</td>\n",
       "      <td>0</td>\n",
       "      <td>0</td>\n",
       "    </tr>\n",
       "    <tr>\n",
       "      <th>Saumil Shah</th>\n",
       "      <td>4</td>\n",
       "      <td>0</td>\n",
       "      <td>0</td>\n",
       "      <td>0</td>\n",
       "    </tr>\n",
       "  </tbody>\n",
       "</table>\n",
       "</div>"
      ],
      "text/plain": [
       "                  cve  exploit  vulnerability  infosec\n",
       "BillBrenner70      10        0              0        0\n",
       "Jeff Barr           3        0              0        0\n",
       "Avram Marius       41        0              0        0\n",
       "edskoudis           1        0              0        0\n",
       "beist               3        0              0        0\n",
       "Tim Strazzere      10        0              0        0\n",
       "Ryan Barnett        5        0              0        0\n",
       "Mikko Hypponen     10        0              0        0\n",
       "Steve Ragan         2        0              0        0\n",
       "Joshua Corman       2        0              0        0\n",
       "Richard Bejtlich    3        0              0        0\n",
       "Razor               5        0              0        0\n",
       "Dan Philpott        1        0              0        0\n",
       "adam shostack       5        0              0        0\n",
       "mdowd               7        0              0        0\n",
       "Virus Bulletin     43        0              0        0\n",
       "Chris Wysopal       9        0              0        0\n",
       "Graham Cluley       2        0              0        0\n",
       "Petko D. Petkov     3        0              0        0\n",
       "Saumil Shah         4        0              0        0"
      ]
     },
     "execution_count": 139,
     "metadata": {},
     "output_type": "execute_result"
    }
   ],
   "source": [
    "trainname =totalname2[2:22]#20筆帳號\n",
    "dff = pd.DataFrame(0,index=trainname,columns=['cve','exploit','vulnerability','infosec'])\n",
    "cll=['']*len(trainname)\n",
    "\n",
    "for c in xrange(len(name2)):\n",
    "    dff.loc[dff.index==name2[c],'cve']+=1\n",
    "dff"
   ]
  },
  {
   "cell_type": "code",
   "execution_count": 140,
   "metadata": {
    "collapsed": false
   },
   "outputs": [],
   "source": [
    "bq = pyes.query.BoolQuery() \n",
    "#q = pyes.query.MatchAllQuery()\n",
    "tq = pyes.query.TermQuery(field=\"text\", value=\"exploit\")\n",
    "\n",
    "ESR = pyes.ESRange(field=\"created_at\", from_value=\"Wed Jan 01 00:00:00 +0000 2014\", to_value=\"Wed Dec 31 23:59:59 +0000 2014\", \n",
    "                  include_lower=True ,include_upper=True)\n",
    "rq = pyes.query.RangeQuery(qrange=ESR)\n",
    "\n",
    "bq.add_must(tq)\n",
    "bq.add_must(rq)\n",
    "result2 = conn.search(query= bq , indices='twitter2' , doc_types='tweet')\n",
    "#print len(result2)\n",
    "name2=[]\n",
    "day2=[]\n",
    "totalname2=[]\n",
    "for i in result2:\n",
    "    name2.append(i['user']['name'])\n",
    "for c in xrange(len(name2)):\n",
    "    dff.loc[dff.index==name2[c],'exploit']+=1"
   ]
  },
  {
   "cell_type": "code",
   "execution_count": 141,
   "metadata": {
    "collapsed": true
   },
   "outputs": [],
   "source": [
    "bq = pyes.query.BoolQuery() \n",
    "#q = pyes.query.MatchAllQuery()\n",
    "tq = pyes.query.TermQuery(field=\"text\", value=\"vulnerability\")\n",
    "\n",
    "ESR = pyes.ESRange(field=\"created_at\", from_value=\"Wed Jan 01 00:00:00 +0000 2014\", to_value=\"Wed Dec 31 23:59:59 +0000 2014\", \n",
    "                  include_lower=True ,include_upper=True)\n",
    "rq = pyes.query.RangeQuery(qrange=ESR)\n",
    "\n",
    "bq.add_must(tq)\n",
    "bq.add_must(rq)\n",
    "result2 = conn.search(query= bq , indices='twitter2' , doc_types='tweet')\n",
    "#print len(result2)\n",
    "name2=[]\n",
    "day2=[]\n",
    "totalname2=[]\n",
    "for i in result2:\n",
    "    name2.append(i['user']['name'])\n",
    "for c in xrange(len(name2)):\n",
    "    dff.loc[dff.index==name2[c],'vulnerability']+=1"
   ]
  },
  {
   "cell_type": "code",
   "execution_count": 142,
   "metadata": {
    "collapsed": true
   },
   "outputs": [],
   "source": [
    "bq = pyes.query.BoolQuery() \n",
    "#q = pyes.query.MatchAllQuery()\n",
    "tq = pyes.query.TermQuery(field=\"text\", value=\"infosec\")\n",
    "\n",
    "ESR = pyes.ESRange(field=\"created_at\", from_value=\"Wed Jan 01 00:00:00 +0000 2014\", to_value=\"Wed Dec 31 23:59:59 +0000 2014\", \n",
    "                  include_lower=True ,include_upper=True)\n",
    "rq = pyes.query.RangeQuery(qrange=ESR)\n",
    "\n",
    "bq.add_must(tq)\n",
    "bq.add_must(rq)\n",
    "result2 = conn.search(query= bq , indices='twitter2' , doc_types='tweet')\n",
    "#print len(result2)\n",
    "name2=[]\n",
    "day2=[]\n",
    "totalname2=[]\n",
    "for i in result2:\n",
    "    name2.append(i['user']['name'])\n",
    "for c in xrange(len(name2)):\n",
    "    dff.loc[dff.index==name2[c],'infosec']+=1"
   ]
  },
  {
   "cell_type": "code",
   "execution_count": 143,
   "metadata": {
    "collapsed": false
   },
   "outputs": [
    {
     "data": {
      "text/html": [
       "<div>\n",
       "<table border=\"1\" class=\"dataframe\">\n",
       "  <thead>\n",
       "    <tr style=\"text-align: right;\">\n",
       "      <th></th>\n",
       "      <th>cve</th>\n",
       "      <th>exploit</th>\n",
       "      <th>vulnerability</th>\n",
       "      <th>infosec</th>\n",
       "      <th>class</th>\n",
       "    </tr>\n",
       "  </thead>\n",
       "  <tbody>\n",
       "    <tr>\n",
       "      <th>BillBrenner70</th>\n",
       "      <td>10</td>\n",
       "      <td>1</td>\n",
       "      <td>17</td>\n",
       "      <td>54</td>\n",
       "      <td>infosec</td>\n",
       "    </tr>\n",
       "    <tr>\n",
       "      <th>Jeff Barr</th>\n",
       "      <td>3</td>\n",
       "      <td>0</td>\n",
       "      <td>1</td>\n",
       "      <td>0</td>\n",
       "      <td>cve</td>\n",
       "    </tr>\n",
       "    <tr>\n",
       "      <th>Avram Marius</th>\n",
       "      <td>41</td>\n",
       "      <td>29</td>\n",
       "      <td>38</td>\n",
       "      <td>16</td>\n",
       "      <td>cve</td>\n",
       "    </tr>\n",
       "    <tr>\n",
       "      <th>edskoudis</th>\n",
       "      <td>1</td>\n",
       "      <td>3</td>\n",
       "      <td>2</td>\n",
       "      <td>16</td>\n",
       "      <td>infosec</td>\n",
       "    </tr>\n",
       "    <tr>\n",
       "      <th>beist</th>\n",
       "      <td>3</td>\n",
       "      <td>3</td>\n",
       "      <td>0</td>\n",
       "      <td>5</td>\n",
       "      <td>infosec</td>\n",
       "    </tr>\n",
       "    <tr>\n",
       "      <th>Tim Strazzere</th>\n",
       "      <td>10</td>\n",
       "      <td>18</td>\n",
       "      <td>17</td>\n",
       "      <td>8</td>\n",
       "      <td>exploit</td>\n",
       "    </tr>\n",
       "    <tr>\n",
       "      <th>Ryan Barnett</th>\n",
       "      <td>5</td>\n",
       "      <td>7</td>\n",
       "      <td>7</td>\n",
       "      <td>2</td>\n",
       "      <td>vulnerability</td>\n",
       "    </tr>\n",
       "    <tr>\n",
       "      <th>Mikko Hypponen</th>\n",
       "      <td>10</td>\n",
       "      <td>6</td>\n",
       "      <td>9</td>\n",
       "      <td>4</td>\n",
       "      <td>cve</td>\n",
       "    </tr>\n",
       "    <tr>\n",
       "      <th>Steve Ragan</th>\n",
       "      <td>2</td>\n",
       "      <td>1</td>\n",
       "      <td>8</td>\n",
       "      <td>18</td>\n",
       "      <td>infosec</td>\n",
       "    </tr>\n",
       "    <tr>\n",
       "      <th>Joshua Corman</th>\n",
       "      <td>2</td>\n",
       "      <td>3</td>\n",
       "      <td>9</td>\n",
       "      <td>50</td>\n",
       "      <td>infosec</td>\n",
       "    </tr>\n",
       "    <tr>\n",
       "      <th>Richard Bejtlich</th>\n",
       "      <td>3</td>\n",
       "      <td>10</td>\n",
       "      <td>6</td>\n",
       "      <td>21</td>\n",
       "      <td>infosec</td>\n",
       "    </tr>\n",
       "    <tr>\n",
       "      <th>Razor</th>\n",
       "      <td>5</td>\n",
       "      <td>20</td>\n",
       "      <td>12</td>\n",
       "      <td>55</td>\n",
       "      <td>infosec</td>\n",
       "    </tr>\n",
       "    <tr>\n",
       "      <th>Dan Philpott</th>\n",
       "      <td>1</td>\n",
       "      <td>1</td>\n",
       "      <td>0</td>\n",
       "      <td>10</td>\n",
       "      <td>infosec</td>\n",
       "    </tr>\n",
       "    <tr>\n",
       "      <th>adam shostack</th>\n",
       "      <td>5</td>\n",
       "      <td>6</td>\n",
       "      <td>4</td>\n",
       "      <td>19</td>\n",
       "      <td>infosec</td>\n",
       "    </tr>\n",
       "    <tr>\n",
       "      <th>mdowd</th>\n",
       "      <td>7</td>\n",
       "      <td>4</td>\n",
       "      <td>2</td>\n",
       "      <td>7</td>\n",
       "      <td>infosec</td>\n",
       "    </tr>\n",
       "    <tr>\n",
       "      <th>Virus Bulletin</th>\n",
       "      <td>43</td>\n",
       "      <td>62</td>\n",
       "      <td>88</td>\n",
       "      <td>8</td>\n",
       "      <td>vulnerability</td>\n",
       "    </tr>\n",
       "    <tr>\n",
       "      <th>Chris Wysopal</th>\n",
       "      <td>9</td>\n",
       "      <td>24</td>\n",
       "      <td>30</td>\n",
       "      <td>15</td>\n",
       "      <td>vulnerability</td>\n",
       "    </tr>\n",
       "    <tr>\n",
       "      <th>Graham Cluley</th>\n",
       "      <td>2</td>\n",
       "      <td>12</td>\n",
       "      <td>28</td>\n",
       "      <td>7</td>\n",
       "      <td>vulnerability</td>\n",
       "    </tr>\n",
       "    <tr>\n",
       "      <th>Petko D. Petkov</th>\n",
       "      <td>3</td>\n",
       "      <td>0</td>\n",
       "      <td>4</td>\n",
       "      <td>1</td>\n",
       "      <td>vulnerability</td>\n",
       "    </tr>\n",
       "    <tr>\n",
       "      <th>Saumil Shah</th>\n",
       "      <td>4</td>\n",
       "      <td>27</td>\n",
       "      <td>1</td>\n",
       "      <td>10</td>\n",
       "      <td>exploit</td>\n",
       "    </tr>\n",
       "  </tbody>\n",
       "</table>\n",
       "</div>"
      ],
      "text/plain": [
       "                  cve  exploit  vulnerability  infosec          class\n",
       "BillBrenner70      10        1             17       54        infosec\n",
       "Jeff Barr           3        0              1        0            cve\n",
       "Avram Marius       41       29             38       16            cve\n",
       "edskoudis           1        3              2       16        infosec\n",
       "beist               3        3              0        5        infosec\n",
       "Tim Strazzere      10       18             17        8        exploit\n",
       "Ryan Barnett        5        7              7        2  vulnerability\n",
       "Mikko Hypponen     10        6              9        4            cve\n",
       "Steve Ragan         2        1              8       18        infosec\n",
       "Joshua Corman       2        3              9       50        infosec\n",
       "Richard Bejtlich    3       10              6       21        infosec\n",
       "Razor               5       20             12       55        infosec\n",
       "Dan Philpott        1        1              0       10        infosec\n",
       "adam shostack       5        6              4       19        infosec\n",
       "mdowd               7        4              2        7        infosec\n",
       "Virus Bulletin     43       62             88        8  vulnerability\n",
       "Chris Wysopal       9       24             30       15  vulnerability\n",
       "Graham Cluley       2       12             28        7  vulnerability\n",
       "Petko D. Petkov     3        0              4        1  vulnerability\n",
       "Saumil Shah         4       27              1       10        exploit"
      ]
     },
     "execution_count": 143,
     "metadata": {},
     "output_type": "execute_result"
    }
   ],
   "source": [
    "for c in xrange(len(dff.index)):\n",
    "    for c1 in dff.columns:\n",
    "        if dff.ix[c][c1]== max(dff.ix[c]):\n",
    "            cll[c]=c1\n",
    "dff.insert(4, \"class\", cll)\n",
    "dff"
   ]
  },
  {
   "cell_type": "code",
   "execution_count": 112,
   "metadata": {
    "collapsed": false
   },
   "outputs": [
    {
     "name": "stdout",
     "output_type": "stream",
     "text": [
      "[[10  1 17 54]\n",
      " [ 3  0  1  0]\n",
      " [41 29 38 16]\n",
      " [ 1  3  2 16]\n",
      " [ 3  3  0  5]]\n",
      "['infosec' 'cve' 'cve' 'infosec' 'infosec']\n"
     ]
    }
   ],
   "source": [
    "iris_data_clean = dff\n",
    "\n",
    "# We're using all four measurements as inputs\n",
    "# Note that scikit-learn expects each entry to be a list of values, e.g.,\n",
    "# [ [val1, val2, val3],\n",
    "#   [val1, val2, val3],\n",
    "#   ... ]\n",
    "# such that our input data set is represented as a list of lists\n",
    "\n",
    "# We can extract the data in this format from pandas like this:\n",
    "all_inputs = iris_data_clean[['cve','exploit','vulnerability','infosec']].values#特徵\n",
    "\n",
    "# Similarly, we can extract the classes\n",
    "all_classes = iris_data_clean['class'].values#詞最多\n",
    "\n",
    "# Make sure that you don't mix up the order of the entries\n",
    "# all_inputs[5] inputs should correspond to the class in all_classes[5]\n",
    "\n",
    "# Here's what a subset of our inputs looks like:\n",
    "print all_inputs[:5] #顯示5個\n",
    "print all_classes[:5]"
   ]
  },
  {
   "cell_type": "code",
   "execution_count": 113,
   "metadata": {
    "collapsed": true
   },
   "outputs": [],
   "source": [
    "from sklearn.cross_validation import train_test_split\n",
    "\n",
    "(training_inputs,\n",
    " testing_inputs,\n",
    " training_classes,\n",
    " testing_classes) = train_test_split(all_inputs, all_classes, train_size=0.75, random_state=1)"
   ]
  },
  {
   "cell_type": "code",
   "execution_count": 115,
   "metadata": {
    "collapsed": false
   },
   "outputs": [
    {
     "data": {
      "text/plain": [
       "0.80000000000000004"
      ]
     },
     "execution_count": 115,
     "metadata": {},
     "output_type": "execute_result"
    }
   ],
   "source": [
    "from sklearn.tree import DecisionTreeClassifier\n",
    "\n",
    "# Create the classifier\n",
    "decision_tree_classifier = DecisionTreeClassifier()\n",
    "\n",
    "# Train the classifier on the training set\n",
    "decision_tree_classifier.fit(training_inputs, training_classes)\n",
    "\n",
    "# Validate the classifier on the testing set using classification accuracy\n",
    "decision_tree_classifier.score(testing_inputs, testing_classes)"
   ]
  },
  {
   "cell_type": "code",
   "execution_count": 116,
   "metadata": {
    "collapsed": false
   },
   "outputs": [
    {
     "data": {
      "text/plain": [
       "<matplotlib.axes._subplots.AxesSubplot at 0x7fdcb9cf90d0>"
      ]
     },
     "execution_count": 116,
     "metadata": {},
     "output_type": "execute_result"
    },
    {
     "data": {
      "image/png": "[encoded data removed]",
      "text/plain": [
       "<matplotlib.figure.Figure at 0x7fdcba01ff50>"
      ]
     },
     "metadata": {},
     "output_type": "display_data"
    }
   ],
   "source": [
    "import seaborn as sb\n",
    "model_accuracies = []\n",
    "\n",
    "for repetition in range(1000):\n",
    "    (training_inputs,\n",
    "     testing_inputs,\n",
    "     training_classes,\n",
    "     testing_classes) = train_test_split(all_inputs, all_classes, train_size=0.75)\n",
    "    \n",
    "    decision_tree_classifier = DecisionTreeClassifier()\n",
    "    decision_tree_classifier.fit(training_inputs, training_classes)\n",
    "    classifier_accuracy = decision_tree_classifier.score(testing_inputs, testing_classes)\n",
    "    model_accuracies.append(classifier_accuracy)\n",
    "    \n",
    "sb.distplot(model_accuracies)"
   ]
  },
  {
   "cell_type": "code",
   "execution_count": 117,
   "metadata": {
    "collapsed": false
   },
   "outputs": [
    {
     "data": {
      "image/png": "[encoded data removed]",
      "text/plain": [
       "<matplotlib.figure.Figure at 0x7fdcba8f85d0>"
      ]
     },
     "metadata": {},
     "output_type": "display_data"
    }
   ],
   "source": [
    "import numpy as np\n",
    "from sklearn.cross_validation import StratifiedKFold\n",
    "\n",
    "def plot_cv(cv, n_samples):\n",
    "    masks = []\n",
    "    for train, test in cv:\n",
    "        mask = np.zeros(n_samples, dtype=bool)\n",
    "        mask[test] = 1\n",
    "        masks.append(mask)\n",
    "        \n",
    "    plt.figure(figsize=(15, 15))\n",
    "    plt.imshow(masks, interpolation='none')\n",
    "    plt.ylabel('Fold')\n",
    "    plt.xlabel('Row #')\n",
    "\n",
    "plot_cv(StratifiedKFold(all_classes, n_folds=10), len(all_classes))"
   ]
  },
  {
   "cell_type": "code",
   "execution_count": 133,
   "metadata": {
    "collapsed": false
   },
   "outputs": [
    {
     "name": "stdout",
     "output_type": "stream",
     "text": [
      "Best score: 0.6\n",
      "Best parameters: {'max_features': 4, 'max_depth': 3}\n"
     ]
    }
   ],
   "source": [
    "from sklearn.grid_search import GridSearchCV\n",
    "\n",
    "decision_tree_classifier = DecisionTreeClassifier()\n",
    "\n",
    "parameter_grid = {'max_depth': [1, 2, 3, 4, 5],\n",
    "                  'max_features': [1, 2, 3, 4]}\n",
    "\n",
    "cross_validation = StratifiedKFold(all_classes, n_folds=10)\n",
    "\n",
    "grid_search = GridSearchCV(decision_tree_classifier,\n",
    "                           param_grid=parameter_grid,\n",
    "                           cv=cross_validation)\n",
    "\n",
    "grid_search.fit(all_inputs, all_classes)\n",
    "print('Best score: {}'.format(grid_search.best_score_))\n",
    "print('Best parameters: {}'.format(grid_search.best_params_))"
   ]
  },
  {
   "cell_type": "code",
   "execution_count": 134,
   "metadata": {
    "collapsed": false
   },
   "outputs": [
    {
     "data": {
      "text/plain": [
       "<matplotlib.text.Text at 0x7fdcba4e5e10>"
      ]
     },
     "execution_count": 134,
     "metadata": {},
     "output_type": "execute_result"
    },
    {
     "data": {
      "image/png": "[encoded data removed]",
      "text/plain": [
       "<matplotlib.figure.Figure at 0x7fdcba4ae990>"
      ]
     },
     "metadata": {},
     "output_type": "display_data"
    }
   ],
   "source": [
    "grid_visualization = []\n",
    "\n",
    "for grid_pair in grid_search.grid_scores_:\n",
    "    grid_visualization.append(grid_pair.mean_validation_score)\n",
    "    \n",
    "grid_visualization = np.array(grid_visualization)\n",
    "grid_visualization.shape = (5, 4)\n",
    "sb.heatmap(grid_visualization, cmap='Blues')\n",
    "plt.xticks(np.arange(4) + 0.5, grid_search.param_grid['max_features'])\n",
    "plt.yticks(np.arange(5) + 0.5, grid_search.param_grid['max_depth'][::-1])\n",
    "plt.xlabel('max_features')\n",
    "plt.ylabel('max_depth')"
   ]
  }
 ],
 "metadata": {
  "kernelspec": {
   "display_name": "Python [Root]",
   "language": "python",
   "name": "Python [Root]"
  },
  "language_info": {
   "codemirror_mode": {
    "name": "ipython",
    "version": 2
   },
   "file_extension": ".py",
   "mimetype": "text/x-python",
   "name": "python",
   "nbconvert_exporter": "python",
   "pygments_lexer": "ipython2",
   "version": "2.7.12"
  }
 },
 "nbformat": 4,
 "nbformat_minor": 0
}
